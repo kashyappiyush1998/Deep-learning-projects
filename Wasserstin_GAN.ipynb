{
  "nbformat": 4,
  "nbformat_minor": 0,
  "metadata": {
    "colab": {
      "name": "Wasserstin_GAN.ipynb",
      "provenance": [],
      "collapsed_sections": []
    },
    "kernelspec": {
      "name": "python3",
      "display_name": "Python 3"
    },
    "accelerator": "GPU"
  },
  "cells": [
    {
      "cell_type": "code",
      "metadata": {
        "id": "pK63Bpxv7ZUg",
        "colab_type": "code",
        "outputId": "916ed95d-130b-4fd6-ada7-8290af584581",
        "colab": {
          "base_uri": "https://localhost:8080/",
          "height": 63
        }
      },
      "source": [
        "from tensorflow.keras.layers import Input, Conv2D, Flatten, Dense, Conv2DTranspose, Reshape, Lambda, Activation, BatchNormalization, LeakyReLU, Dropout, ZeroPadding2D, UpSampling2D, Dropout, Softmax\n",
        "from tensorflow.keras.preprocessing.image import ImageDataGenerator\n",
        "from tensorflow.keras.models import Model, Sequential\n",
        "from tensorflow.keras import backend as K\n",
        "from tensorflow.keras.optimizers import Adam, RMSprop\n",
        "from tensorflow.keras.utils import plot_model\n",
        "from tensorflow.keras.initializers import RandomNormal\n",
        "\n",
        "import numpy as np\n",
        "import json\n",
        "import os\n",
        "import pickle as pkl\n",
        "import matplotlib.pyplot as plt\n"
      ],
      "execution_count": 0,
      "outputs": [
        {
          "output_type": "display_data",
          "data": {
            "text/html": [
              "<p style=\"color: red;\">\n",
              "The default version of TensorFlow in Colab will soon switch to TensorFlow 2.x.<br>\n",
              "We recommend you <a href=\"https://www.tensorflow.org/guide/migrate\" target=\"_blank\">upgrade</a> now \n",
              "or ensure your notebook will continue to use TensorFlow 1.x via the <code>%tensorflow_version 1.x</code> magic:\n",
              "<a href=\"https://colab.research.google.com/notebooks/tensorflow_version.ipynb\" target=\"_blank\">more info</a>.</p>\n"
            ],
            "text/plain": [
              "<IPython.core.display.HTML object>"
            ]
          },
          "metadata": {
            "tags": []
          }
        }
      ]
    },
    {
      "cell_type": "code",
      "metadata": {
        "id": "_-gKwTUgAT3l",
        "colab_type": "code",
        "outputId": "5226553e-819f-4090-abfe-d22fad089da7",
        "colab": {
          "base_uri": "https://localhost:8080/",
          "height": 81
        }
      },
      "source": [
        "from keras.layers import Input, Conv2D, Flatten, Dense, Conv2DTranspose, Reshape, Lambda, Activation, BatchNormalization, LeakyReLU, Dropout, ZeroPadding2D, UpSampling2D, Dropout\n",
        "from keras.layers.merge import _Merge\n",
        "\n",
        "from keras.models import Model, Sequential\n",
        "from keras import backend as K\n",
        "from keras.optimizers import Adam, RMSprop\n",
        "from keras.utils import plot_model\n",
        "from keras.initializers import RandomNormal\n",
        "\n",
        "import numpy as np\n",
        "import json\n",
        "import os\n",
        "import pickle as pkl\n",
        "import matplotlib.pyplot as plt\n"
      ],
      "execution_count": 0,
      "outputs": [
        {
          "output_type": "stream",
          "text": [
            "Using TensorFlow backend.\n"
          ],
          "name": "stderr"
        },
        {
          "output_type": "display_data",
          "data": {
            "text/html": [
              "<p style=\"color: red;\">\n",
              "The default version of TensorFlow in Colab will soon switch to TensorFlow 2.x.<br>\n",
              "We recommend you <a href=\"https://www.tensorflow.org/guide/migrate\" target=\"_blank\">upgrade</a> now \n",
              "or ensure your notebook will continue to use TensorFlow 1.x via the <code>%tensorflow_version 1.x</code> magic:\n",
              "<a href=\"https://colab.research.google.com/notebooks/tensorflow_version.ipynb\" target=\"_blank\">more info</a>.</p>\n"
            ],
            "text/plain": [
              "<IPython.core.display.HTML object>"
            ]
          },
          "metadata": {
            "tags": []
          }
        }
      ]
    },
    {
      "cell_type": "code",
      "metadata": {
        "id": "FJ7oIx2CRjoM",
        "colab_type": "code",
        "outputId": "ce85db2c-866e-49b6-c6bf-201226fb8bff",
        "colab": {
          "base_uri": "https://localhost:8080/",
          "height": 212
        }
      },
      "source": [
        "!wget \"https://storage.googleapis.com/quickdraw_dataset/full/numpy_bitmap/camel.npy\""
      ],
      "execution_count": 0,
      "outputs": [
        {
          "output_type": "stream",
          "text": [
            "--2019-12-29 09:03:49--  https://storage.googleapis.com/quickdraw_dataset/full/numpy_bitmap/camel.npy\n",
            "Resolving storage.googleapis.com (storage.googleapis.com)... 108.177.126.128, 2a00:1450:4013:c06::80\n",
            "Connecting to storage.googleapis.com (storage.googleapis.com)|108.177.126.128|:443... connected.\n",
            "HTTP request sent, awaiting response... 200 OK\n",
            "Length: 95176896 (91M) [application/octet-stream]\n",
            "Saving to: ‘camel.npy’\n",
            "\n",
            "camel.npy           100%[===================>]  90.77M  69.9MB/s    in 1.3s    \n",
            "\n",
            "2019-12-29 09:03:51 (69.9 MB/s) - ‘camel.npy’ saved [95176896/95176896]\n",
            "\n"
          ],
          "name": "stdout"
        }
      ]
    },
    {
      "cell_type": "code",
      "metadata": {
        "id": "gR8Tipyj9N91",
        "colab_type": "code",
        "colab": {}
      },
      "source": [
        "data = np.load(\"camel.npy\")\n",
        "data = data.reshape(data.shape[0], 28, 28, 1)"
      ],
      "execution_count": 0,
      "outputs": []
    },
    {
      "cell_type": "code",
      "metadata": {
        "id": "R9T2NuJ_7ZYZ",
        "colab_type": "code",
        "colab": {}
      },
      "source": [
        "class WGAN():\n",
        "\n",
        "    def  __init__(self, \n",
        "                  input_dim,\n",
        "                  disc_filter,\n",
        "                  disc_kernel,\n",
        "                  disc_strides,\n",
        "                  disc_dropout,\n",
        "                  disc_lr,\n",
        "                  gen_filter,\n",
        "                  gen_kernel,\n",
        "                  gen_strides,\n",
        "                  gen_upsample,\n",
        "                  gen_lr,\n",
        "                  z_dim,\n",
        "                  batch_size):\n",
        "      \n",
        "\n",
        "          self.input_dim = input_dim\n",
        "          self.disc_filter = disc_filter\n",
        "          self.disc_kernel = disc_kernel\n",
        "          self.disc_strides = disc_strides\n",
        "          self.disc_dropout = disc_dropout\n",
        "          self.disc_lr = disc_lr\n",
        "          self.gen_filter = gen_filter\n",
        "          self.gen_kernel = gen_kernel\n",
        "          self.gen_strides = gen_strides\n",
        "          self.gen_upsample = gen_upsample\n",
        "          self.gen_lr = gen_lr\n",
        "          self.z_dim = z_dim\n",
        "          self.batch_size = batch_size\n",
        "\n",
        "          self.d_losses = []\n",
        "          self.g_losses = []\n",
        "          self.epoch = 0\n",
        "\n",
        "          self.Discriminator()\n",
        "          self.Generator()\n",
        "\n",
        "          self.full_model()\n",
        "\n",
        "    def wasserstein(self, y_true, y_pred):\n",
        "        return -K.mean(y_true * y_pred)\n",
        "\n",
        "    def Discriminator(self):\n",
        "\n",
        "        disc_input = Input(shape=self.input_dim, name='discriminator_input')\n",
        "        x = disc_input\n",
        "\n",
        "        for i in range(len(self.disc_filter)):\n",
        "            x = Conv2D(filters=self.disc_filter[i], kernel_size=self.disc_kernel[i], strides=self.disc_strides[i], padding='same', name='disc_'+str(i))(x)\n",
        "            x = LeakyReLU()(x)\n",
        "            x = Dropout(self.disc_dropout)(x)\n",
        "            x = BatchNormalization()(x)\n",
        "\n",
        "        x = Flatten()(x)\n",
        "        disc_output = Dense(1, activation=\"linear\")(x)\n",
        "        self.discriminator = Model(disc_input, disc_output)\n",
        "\n",
        "    def Generator(self):\n",
        "\n",
        "        gen_input = Input(shape=(self.z_dim,), name='generator_input')\n",
        "        x = gen_input\n",
        "\n",
        "        x = Dense(7*7*self.batch_size)(x)\n",
        "        x = LeakyReLU()(x)\n",
        "        x = BatchNormalization()(x)\n",
        "        x = Reshape(target_shape=(7,7,self.batch_size))(x)\n",
        "        \n",
        "        for i in range(len(self.gen_filter)):\n",
        "            if self.gen_upsample[i]==2:\n",
        "                x = UpSampling2D(size=self.gen_upsample[i], name='upsample_'+str(i/2))(x)\n",
        "                x = Conv2D(filters=self.gen_filter[i], kernel_size=self.gen_kernel[i], strides=self.gen_strides[i], padding='same', name='gen_'+str(i))(x)\n",
        "\n",
        "            else:\n",
        "                x = Conv2DTranspose(filters=self.gen_filter[i], kernel_size=self.gen_kernel[i], strides=self.gen_strides[i], padding='same', name='gen_'+str(i))(x)\n",
        "            \n",
        "            if i<len(self.gen_filter)-1:\n",
        "                #x = BatchNormalization()(x)\n",
        "                x = LeakyReLU()(x)\n",
        "\n",
        "            else:\n",
        "                x = Activation(\"tanh\")(x)\n",
        "\n",
        "        gen_output = x\n",
        "        self.generator = Model(gen_input, gen_output)\n",
        "\n",
        "      \n",
        "    def set_trainable(self, model, val):\n",
        "        model.trainable=val\n",
        "                  \n",
        "    def full_model(self):\n",
        "        \n",
        "        ### COMPILE DISCRIMINATOR\n",
        "        self.discriminator.compile(optimizer= Adam(self.disc_lr), loss = self.wasserstein, metrics=['accuracy'])\n",
        "    \n",
        "        ### COMPILE THE FULL GAN\n",
        "\n",
        "        self.set_trainable(self.discriminator, False)\n",
        "        self.discriminator.compile(optimizer= Adam(self.disc_lr), loss = self.wasserstein, metrics=['accuracy'])\n",
        "\n",
        "        model_input = Input(shape=(self.z_dim,), name='model_input')\n",
        "        model_output = self.discriminator(self.generator(model_input))\n",
        "        self.model = Model(model_input, model_output)\n",
        "\n",
        "        self.model.compile(optimizer= Adam(self.disc_lr), loss = self.wasserstein, metrics=['accuracy'])\n",
        "\n",
        "        self.set_trainable(self.discriminator, True)\n",
        "\n",
        "    def train_generator(self, batch_size):\n",
        "        valid = np.ones((batch_size,1))\n",
        "        noise = np.random.normal(0, 1, (batch_size, self.z_dim))\n",
        "        return self.model.train_on_batch(noise, valid)\n",
        "\n",
        "    def train_discriminator(self, x_train, batch_size, using_generator):\n",
        "        valid = np.ones((batch_size,1))\n",
        "        fake = np.zeros((batch_size,1))\n",
        "        \n",
        "        if using_generator:\n",
        "            true_imgs = next(x_train)[0]\n",
        "            if true_imgs.shape[0] != batch_size:\n",
        "                true_imgs = next(x_train)[0]\n",
        "        else:\n",
        "            idx = np.random.randint(0, x_train.shape[0], batch_size)\n",
        "            true_imgs = x_train[idx]\n",
        "        \n",
        "        noise = np.random.normal(0, 1, (batch_size, self.z_dim))\n",
        "        gen_imgs = self.generator.predict(noise)\n",
        "\n",
        "        d_loss_real, d_acc_real =  self.discriminator.train_on_batch(true_imgs, valid)\n",
        "        d_loss_fake, d_acc_fake =  self.discriminator.train_on_batch(gen_imgs, fake)\n",
        "        d_loss = 0.5 * (d_loss_real + d_loss_fake)\n",
        "        d_acc = 0.5 * (d_acc_real + d_acc_fake)\n",
        "\n",
        "        for l in self.discriminator.layers:\n",
        "            weights = l.get_weights()\n",
        "            weights = [np.clip(w, -0.01, 0.01) for w in weights]\n",
        "            l.set_weights(weights)\n",
        "\n",
        "        return [d_loss, d_loss_real, d_loss_fake, d_acc, d_acc_real, d_acc_fake]\n",
        "\n",
        "    def train(self, x_train, batch_size, epochs, print_every_n_batches = 50, using_generator = False):\n",
        "\n",
        "        for epoch in range(self.epoch, self.epoch + epochs):\n",
        "\n",
        "            d = self.train_discriminator(x_train, batch_size, using_generator)\n",
        "            g = self.train_generator(batch_size)\n",
        "            if self.epoch % print_every_n_batches == 0:\n",
        "                print (\"%d [D loss: (%.3f)(R %.3f, F %.3f)] [D acc: (%.3f)(%.3f, %.3f)] [G loss: %.3f] [G acc: %.3f]\" % (epoch, d[0], d[1], d[2], d[3], d[4], d[5], g[0], g[1]))\n",
        "\n",
        "            self.d_losses.append(d)\n",
        "            self.g_losses.append(g)\n",
        "\n",
        "            self.epoch+=1"
      ],
      "execution_count": 0,
      "outputs": []
    },
    {
      "cell_type": "code",
      "metadata": {
        "id": "r6gBlh_R7ZdA",
        "colab_type": "code",
        "outputId": "88bdb3e8-b016-45a4-9922-9bcb98fa87d9",
        "colab": {
          "base_uri": "https://localhost:8080/",
          "height": 552
        }
      },
      "source": [
        "wgan = WGAN(input_dim = (28,28,1)\n",
        "        , disc_filter = [64,64,128,128]\n",
        "        , disc_kernel = [5,5,5,5]\n",
        "        , disc_strides = [2,2,2,1]\n",
        "        , disc_dropout = 0.4\n",
        "        , disc_lr = 0.0008\n",
        "        , gen_upsample = [2,2, 1, 1]\n",
        "        , gen_filter = [128,64, 64,1]\n",
        "        , gen_kernel = [5,5,5,5]\n",
        "        , gen_strides = [1,1, 1, 1]\n",
        "        , gen_lr = 0.0004\n",
        "        , z_dim = 100\n",
        "        , batch_size=64\n",
        "        )"
      ],
      "execution_count": 0,
      "outputs": [
        {
          "output_type": "stream",
          "text": [
            "WARNING:tensorflow:From /usr/local/lib/python3.6/dist-packages/keras/backend/tensorflow_backend.py:541: The name tf.placeholder is deprecated. Please use tf.compat.v1.placeholder instead.\n",
            "\n",
            "WARNING:tensorflow:From /usr/local/lib/python3.6/dist-packages/keras/backend/tensorflow_backend.py:4432: The name tf.random_uniform is deprecated. Please use tf.random.uniform instead.\n",
            "\n",
            "WARNING:tensorflow:From /usr/local/lib/python3.6/dist-packages/keras/backend/tensorflow_backend.py:66: The name tf.get_default_graph is deprecated. Please use tf.compat.v1.get_default_graph instead.\n",
            "\n",
            "WARNING:tensorflow:From /usr/local/lib/python3.6/dist-packages/keras/backend/tensorflow_backend.py:148: The name tf.placeholder_with_default is deprecated. Please use tf.compat.v1.placeholder_with_default instead.\n",
            "\n",
            "WARNING:tensorflow:From /usr/local/lib/python3.6/dist-packages/keras/backend/tensorflow_backend.py:3733: calling dropout (from tensorflow.python.ops.nn_ops) with keep_prob is deprecated and will be removed in a future version.\n",
            "Instructions for updating:\n",
            "Please use `rate` instead of `keep_prob`. Rate should be set to `rate = 1 - keep_prob`.\n",
            "WARNING:tensorflow:From /usr/local/lib/python3.6/dist-packages/keras/backend/tensorflow_backend.py:190: The name tf.get_default_session is deprecated. Please use tf.compat.v1.get_default_session instead.\n",
            "\n",
            "WARNING:tensorflow:From /usr/local/lib/python3.6/dist-packages/keras/backend/tensorflow_backend.py:197: The name tf.ConfigProto is deprecated. Please use tf.compat.v1.ConfigProto instead.\n",
            "\n",
            "WARNING:tensorflow:From /usr/local/lib/python3.6/dist-packages/keras/backend/tensorflow_backend.py:203: The name tf.Session is deprecated. Please use tf.compat.v1.Session instead.\n",
            "\n",
            "WARNING:tensorflow:From /usr/local/lib/python3.6/dist-packages/keras/backend/tensorflow_backend.py:207: The name tf.global_variables is deprecated. Please use tf.compat.v1.global_variables instead.\n",
            "\n",
            "WARNING:tensorflow:From /usr/local/lib/python3.6/dist-packages/keras/backend/tensorflow_backend.py:216: The name tf.is_variable_initialized is deprecated. Please use tf.compat.v1.is_variable_initialized instead.\n",
            "\n",
            "WARNING:tensorflow:From /usr/local/lib/python3.6/dist-packages/keras/backend/tensorflow_backend.py:223: The name tf.variables_initializer is deprecated. Please use tf.compat.v1.variables_initializer instead.\n",
            "\n",
            "WARNING:tensorflow:From /usr/local/lib/python3.6/dist-packages/keras/backend/tensorflow_backend.py:2041: The name tf.nn.fused_batch_norm is deprecated. Please use tf.compat.v1.nn.fused_batch_norm instead.\n",
            "\n",
            "WARNING:tensorflow:From /usr/local/lib/python3.6/dist-packages/keras/backend/tensorflow_backend.py:2239: The name tf.image.resize_nearest_neighbor is deprecated. Please use tf.compat.v1.image.resize_nearest_neighbor instead.\n",
            "\n",
            "WARNING:tensorflow:From /usr/local/lib/python3.6/dist-packages/keras/optimizers.py:793: The name tf.train.Optimizer is deprecated. Please use tf.compat.v1.train.Optimizer instead.\n",
            "\n"
          ],
          "name": "stdout"
        }
      ]
    },
    {
      "cell_type": "code",
      "metadata": {
        "id": "r1Qpq5a87Zjw",
        "colab_type": "code",
        "outputId": "f62a1783-fbdc-4df5-dc06-975ff73a06de",
        "colab": {
          "base_uri": "https://localhost:8080/",
          "height": 890
        }
      },
      "source": [
        "wgan.discriminator.summary()"
      ],
      "execution_count": 0,
      "outputs": [
        {
          "output_type": "stream",
          "text": [
            "Model: \"model_1\"\n",
            "_________________________________________________________________\n",
            "Layer (type)                 Output Shape              Param #   \n",
            "=================================================================\n",
            "discriminator_input (InputLa (None, 28, 28, 1)         0         \n",
            "_________________________________________________________________\n",
            "disc_0 (Conv2D)              (None, 14, 14, 64)        1664      \n",
            "_________________________________________________________________\n",
            "leaky_re_lu_1 (LeakyReLU)    (None, 14, 14, 64)        0         \n",
            "_________________________________________________________________\n",
            "dropout_1 (Dropout)          (None, 14, 14, 64)        0         \n",
            "_________________________________________________________________\n",
            "batch_normalization_1 (Batch (None, 14, 14, 64)        256       \n",
            "_________________________________________________________________\n",
            "disc_1 (Conv2D)              (None, 7, 7, 64)          102464    \n",
            "_________________________________________________________________\n",
            "leaky_re_lu_2 (LeakyReLU)    (None, 7, 7, 64)          0         \n",
            "_________________________________________________________________\n",
            "dropout_2 (Dropout)          (None, 7, 7, 64)          0         \n",
            "_________________________________________________________________\n",
            "batch_normalization_2 (Batch (None, 7, 7, 64)          256       \n",
            "_________________________________________________________________\n",
            "disc_2 (Conv2D)              (None, 4, 4, 128)         204928    \n",
            "_________________________________________________________________\n",
            "leaky_re_lu_3 (LeakyReLU)    (None, 4, 4, 128)         0         \n",
            "_________________________________________________________________\n",
            "dropout_3 (Dropout)          (None, 4, 4, 128)         0         \n",
            "_________________________________________________________________\n",
            "batch_normalization_3 (Batch (None, 4, 4, 128)         512       \n",
            "_________________________________________________________________\n",
            "disc_3 (Conv2D)              (None, 4, 4, 128)         409728    \n",
            "_________________________________________________________________\n",
            "leaky_re_lu_4 (LeakyReLU)    (None, 4, 4, 128)         0         \n",
            "_________________________________________________________________\n",
            "dropout_4 (Dropout)          (None, 4, 4, 128)         0         \n",
            "_________________________________________________________________\n",
            "batch_normalization_4 (Batch (None, 4, 4, 128)         512       \n",
            "_________________________________________________________________\n",
            "flatten_1 (Flatten)          (None, 2048)              0         \n",
            "_________________________________________________________________\n",
            "dense_1 (Dense)              (None, 1)                 2049      \n",
            "=================================================================\n",
            "Total params: 768\n",
            "Trainable params: 0\n",
            "Non-trainable params: 768\n",
            "_________________________________________________________________\n"
          ],
          "name": "stdout"
        },
        {
          "output_type": "stream",
          "text": [
            "/usr/local/lib/python3.6/dist-packages/keras/engine/training.py:493: UserWarning: Discrepancy between trainable weights and collected trainable weights, did you set `model.trainable` without calling `model.compile` after ?\n",
            "  'Discrepancy between trainable weights and collected trainable'\n"
          ],
          "name": "stderr"
        }
      ]
    },
    {
      "cell_type": "code",
      "metadata": {
        "id": "dz9n6-EV8-Hl",
        "colab_type": "code",
        "outputId": "18646e48-a572-4508-99b2-7466c6169e01",
        "colab": {
          "base_uri": "https://localhost:8080/",
          "height": 692
        }
      },
      "source": [
        "wgan.generator.summary()"
      ],
      "execution_count": 0,
      "outputs": [
        {
          "output_type": "stream",
          "text": [
            "Model: \"model_2\"\n",
            "_________________________________________________________________\n",
            "Layer (type)                 Output Shape              Param #   \n",
            "=================================================================\n",
            "generator_input (InputLayer) (None, 100)               0         \n",
            "_________________________________________________________________\n",
            "dense_2 (Dense)              (None, 3136)              316736    \n",
            "_________________________________________________________________\n",
            "leaky_re_lu_5 (LeakyReLU)    (None, 3136)              0         \n",
            "_________________________________________________________________\n",
            "batch_normalization_5 (Batch (None, 3136)              12544     \n",
            "_________________________________________________________________\n",
            "reshape_1 (Reshape)          (None, 7, 7, 64)          0         \n",
            "_________________________________________________________________\n",
            "upsample_0.0 (UpSampling2D)  (None, 14, 14, 64)        0         \n",
            "_________________________________________________________________\n",
            "gen_0 (Conv2D)               (None, 14, 14, 128)       204928    \n",
            "_________________________________________________________________\n",
            "leaky_re_lu_6 (LeakyReLU)    (None, 14, 14, 128)       0         \n",
            "_________________________________________________________________\n",
            "upsample_0.5 (UpSampling2D)  (None, 28, 28, 128)       0         \n",
            "_________________________________________________________________\n",
            "gen_1 (Conv2D)               (None, 28, 28, 64)        204864    \n",
            "_________________________________________________________________\n",
            "leaky_re_lu_7 (LeakyReLU)    (None, 28, 28, 64)        0         \n",
            "_________________________________________________________________\n",
            "gen_2 (Conv2DTranspose)      (None, 28, 28, 64)        102464    \n",
            "_________________________________________________________________\n",
            "leaky_re_lu_8 (LeakyReLU)    (None, 28, 28, 64)        0         \n",
            "_________________________________________________________________\n",
            "gen_3 (Conv2DTranspose)      (None, 28, 28, 1)         1601      \n",
            "_________________________________________________________________\n",
            "activation_1 (Activation)    (None, 28, 28, 1)         0         \n",
            "=================================================================\n",
            "Total params: 843,137\n",
            "Trainable params: 836,865\n",
            "Non-trainable params: 6,272\n",
            "_________________________________________________________________\n"
          ],
          "name": "stdout"
        }
      ]
    },
    {
      "cell_type": "code",
      "metadata": {
        "id": "-irphQ44V9H0",
        "colab_type": "code",
        "outputId": "42799552-7cde-4f51-9bfb-dd8010dfe54c",
        "colab": {
          "base_uri": "https://localhost:8080/",
          "height": 321
        }
      },
      "source": [
        "wgan.model.summary()"
      ],
      "execution_count": 0,
      "outputs": [
        {
          "output_type": "stream",
          "text": [
            "Model: \"model_3\"\n",
            "_________________________________________________________________\n",
            "Layer (type)                 Output Shape              Param #   \n",
            "=================================================================\n",
            "model_input (InputLayer)     (None, 100)               0         \n",
            "_________________________________________________________________\n",
            "model_2 (Model)              (None, 28, 28, 1)         843137    \n",
            "_________________________________________________________________\n",
            "model_1 (Model)              (None, 1)                 722369    \n",
            "=================================================================\n",
            "Total params: 843,905\n",
            "Trainable params: 836,865\n",
            "Non-trainable params: 7,040\n",
            "_________________________________________________________________\n"
          ],
          "name": "stdout"
        },
        {
          "output_type": "stream",
          "text": [
            "/usr/local/lib/python3.6/dist-packages/keras/engine/training.py:493: UserWarning: Discrepancy between trainable weights and collected trainable weights, did you set `model.trainable` without calling `model.compile` after ?\n",
            "  'Discrepancy between trainable weights and collected trainable'\n"
          ],
          "name": "stderr"
        }
      ]
    },
    {
      "cell_type": "code",
      "metadata": {
        "id": "_f1l--Gj9CsG",
        "colab_type": "code",
        "colab": {}
      },
      "source": [
        "BATCH_SIZE = 64\n",
        "EPOCHS = 100\n",
        "PRINT_EVERY_N_BATCHES = 10"
      ],
      "execution_count": 0,
      "outputs": []
    },
    {
      "cell_type": "code",
      "metadata": {
        "id": "Sbt4W3Pf9C59",
        "colab_type": "code",
        "outputId": "cd7e7437-bd27-4ca8-f260-aed87fc47d4c",
        "colab": {
          "base_uri": "https://localhost:8080/",
          "height": 356
        }
      },
      "source": [
        "wgan.train(     \n",
        "    data\n",
        "    , batch_size = BATCH_SIZE\n",
        "    , epochs = EPOCHS\n",
        "    , print_every_n_batches = PRINT_EVERY_N_BATCHES\n",
        ")"
      ],
      "execution_count": 0,
      "outputs": [
        {
          "output_type": "stream",
          "text": [
            "WARNING:tensorflow:From /usr/local/lib/python3.6/dist-packages/keras/backend/tensorflow_backend.py:1033: The name tf.assign_add is deprecated. Please use tf.compat.v1.assign_add instead.\n",
            "\n"
          ],
          "name": "stdout"
        },
        {
          "output_type": "stream",
          "text": [
            "/usr/local/lib/python3.6/dist-packages/keras/engine/training.py:493: UserWarning: Discrepancy between trainable weights and collected trainable weights, did you set `model.trainable` without calling `model.compile` after ?\n",
            "  'Discrepancy between trainable weights and collected trainable'\n"
          ],
          "name": "stderr"
        },
        {
          "output_type": "stream",
          "text": [
            "WARNING:tensorflow:From /usr/local/lib/python3.6/dist-packages/keras/backend/tensorflow_backend.py:1020: The name tf.assign is deprecated. Please use tf.compat.v1.assign instead.\n",
            "\n",
            "0 [D loss: (0.088)(R 0.175, F -0.000)] [D acc: (0.258)(0.234, 0.281)] [G loss: 0.000] [G acc: 0.000]\n"
          ],
          "name": "stdout"
        },
        {
          "output_type": "stream",
          "text": [
            "/usr/local/lib/python3.6/dist-packages/keras/engine/training.py:493: UserWarning: Discrepancy between trainable weights and collected trainable weights, did you set `model.trainable` without calling `model.compile` after ?\n",
            "  'Discrepancy between trainable weights and collected trainable'\n"
          ],
          "name": "stderr"
        },
        {
          "output_type": "stream",
          "text": [
            "10 [D loss: (0.000)(R 0.000, F -0.000)] [D acc: (0.500)(0.000, 1.000)] [G loss: 0.000] [G acc: 0.000]\n",
            "20 [D loss: (0.000)(R 0.000, F -0.000)] [D acc: (0.500)(0.000, 1.000)] [G loss: -0.000] [G acc: 0.000]\n",
            "30 [D loss: (0.000)(R 0.000, F -0.000)] [D acc: (0.500)(0.000, 1.000)] [G loss: -0.000] [G acc: 0.000]\n",
            "40 [D loss: (-0.000)(R -0.000, F -0.000)] [D acc: (0.500)(0.000, 1.000)] [G loss: -0.000] [G acc: 0.000]\n",
            "50 [D loss: (-0.000)(R -0.000, F -0.000)] [D acc: (0.500)(0.000, 1.000)] [G loss: -0.000] [G acc: 0.000]\n",
            "60 [D loss: (-0.000)(R -0.000, F -0.000)] [D acc: (0.500)(0.000, 1.000)] [G loss: -0.000] [G acc: 0.000]\n",
            "70 [D loss: (-0.000)(R -0.000, F -0.000)] [D acc: (0.500)(0.000, 1.000)] [G loss: -0.000] [G acc: 0.000]\n",
            "80 [D loss: (-0.000)(R -0.000, F -0.000)] [D acc: (0.500)(0.000, 1.000)] [G loss: -0.000] [G acc: 0.000]\n",
            "90 [D loss: (-0.000)(R -0.000, F -0.000)] [D acc: (0.500)(0.000, 1.000)] [G loss: -0.000] [G acc: 0.000]\n"
          ],
          "name": "stdout"
        }
      ]
    },
    {
      "cell_type": "code",
      "metadata": {
        "id": "oMAt5MhYCLTx",
        "colab_type": "code",
        "outputId": "b9265919-35dc-41f1-cd99-b17d1267da06",
        "colab": {
          "base_uri": "https://localhost:8080/",
          "height": 264
        }
      },
      "source": [
        "plt.imshow(data[0].reshape(28,28), interpolation='nearest', cmap='gray')\n",
        "plt.show()"
      ],
      "execution_count": 0,
      "outputs": [
        {
          "output_type": "display_data",
          "data": {
            "image/png": "[encoded data removed]",
            "text/plain": [
              "<Figure size 432x288 with 1 Axes>"
            ]
          },
          "metadata": {
            "tags": []
          }
        }
      ]
    },
    {
      "cell_type": "code",
      "metadata": {
        "id": "SgOSAlsiCzrC",
        "colab_type": "code",
        "colab": {}
      },
      "source": [
        "noise = np.random.normal(0, 1, (64, 100))\n",
        "arr = wgan.generator.predict(noise)"
      ],
      "execution_count": 0,
      "outputs": []
    },
    {
      "cell_type": "code",
      "metadata": {
        "id": "0kBdTPpVC4PC",
        "colab_type": "code",
        "outputId": "6ee54ecc-1995-4864-fc70-d125102abdb0",
        "colab": {
          "base_uri": "https://localhost:8080/",
          "height": 1000
        }
      },
      "source": [
        "for img in arr[:10]:\n",
        "    plt.imshow(data[0].reshape(28,28), interpolation='nearest', cmap='gray')\n",
        "    plt.show()"
      ],
      "execution_count": 0,
      "outputs": [
        {
          "output_type": "display_data",
          "data": {
            "image/png": "[encoded data removed]",
            "text/plain": [
              "<Figure size 432x288 with 1 Axes>"
            ]
          },
          "metadata": {
            "tags": []
          }
        },
        {
          "output_type": "display_data",
          "data": {
            "image/png": "[encoded data removed]",
            "text/plain": [
              "<Figure size 432x288 with 1 Axes>"
            ]
          },
          "metadata": {
            "tags": []
          }
        },
        {
          "output_type": "display_data",
          "data": {
            "image/png": "[encoded data removed]",
            "text/plain": [
              "<Figure size 432x288 with 1 Axes>"
            ]
          },
          "metadata": {
            "tags": []
          }
        },
        {
          "output_type": "display_data",
          "data": {
            "image/png": "[encoded data removed]",
            "text/plain": [
              "<Figure size 432x288 with 1 Axes>"
            ]
          },
          "metadata": {
            "tags": []
          }
        },
        {
          "output_type": "display_data",
          "data": {
            "image/png": "[encoded data removed]",
            "text/plain": [
              "<Figure size 432x288 with 1 Axes>"
            ]
          },
          "metadata": {
            "tags": []
          }
        },
        {
          "output_type": "display_data",
          "data": {
            "image/png": "[encoded data removed]",
            "text/plain": [
              "<Figure size 432x288 with 1 Axes>"
            ]
          },
          "metadata": {
            "tags": []
          }
        },
        {
          "output_type": "display_data",
          "data": {
            "image/png": "[encoded data removed]",
            "text/plain": [
              "<Figure size 432x288 with 1 Axes>"
            ]
          },
          "metadata": {
            "tags": []
          }
        },
        {
          "output_type": "display_data",
          "data": {
            "image/png": "[encoded data removed]",
            "text/plain": [
              "<Figure size 432x288 with 1 Axes>"
            ]
          },
          "metadata": {
            "tags": []
          }
        },
        {
          "output_type": "display_data",
          "data": {
            "image/png": "[encoded data removed]",
            "text/plain": [
              "<Figure size 432x288 with 1 Axes>"
            ]
          },
          "metadata": {
            "tags": []
          }
        },
        {
          "output_type": "display_data",
          "data": {
            "image/png": "[encoded data removed]",
            "text/plain": [
              "<Figure size 432x288 with 1 Axes>"
            ]
          },
          "metadata": {
            "tags": []
          }
        }
      ]
    },
    {
      "cell_type": "code",
      "metadata": {
        "id": "T1tZJ9oPFFBU",
        "colab_type": "code",
        "outputId": "571cf524-ea03-4558-baf5-9724a2b81f25",
        "colab": {
          "base_uri": "https://localhost:8080/",
          "height": 354
        }
      },
      "source": [
        "for l in wgan.discriminator.layers:\n",
        "  print(l.get_config()['name'])"
      ],
      "execution_count": 0,
      "outputs": [
        {
          "output_type": "stream",
          "text": [
            "discriminator_input\n",
            "disc_0\n",
            "leaky_re_lu_45\n",
            "dropout_25\n",
            "batch_normalization_30\n",
            "disc_1\n",
            "leaky_re_lu_46\n",
            "dropout_26\n",
            "batch_normalization_31\n",
            "disc_2\n",
            "leaky_re_lu_47\n",
            "dropout_27\n",
            "batch_normalization_32\n",
            "disc_3\n",
            "leaky_re_lu_48\n",
            "dropout_28\n",
            "batch_normalization_33\n",
            "flatten_7\n",
            "dense_11\n"
          ],
          "name": "stdout"
        }
      ]
    },
    {
      "cell_type": "code",
      "metadata": {
        "id": "sjo0MdadQJFe",
        "colab_type": "code",
        "colab": {}
      },
      "source": [
        ""
      ],
      "execution_count": 0,
      "outputs": []
    }
  ]
}