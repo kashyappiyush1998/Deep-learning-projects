{
  "nbformat": 4,
  "nbformat_minor": 0,
  "metadata": {
    "colab": {
      "name": "variational_autoencoder.ipynb",
      "provenance": [],
      "collapsed_sections": []
    },
    "kernelspec": {
      "name": "python3",
      "display_name": "Python 3"
    },
    "accelerator": "GPU"
  },
  "cells": [
    {
      "cell_type": "code",
      "metadata": {
        "id": "2r3gdX0b20rA",
        "colab_type": "code",
        "outputId": "9af187e9-1662-447f-9647-110e6eb0ea99",
        "colab": {
          "base_uri": "https://localhost:8080/",
          "height": 63
        }
      },
      "source": [
        "import tensorflow.keras as keras"
      ],
      "execution_count": 0,
      "outputs": [
        {
          "output_type": "display_data",
          "data": {
            "text/html": [
              "<p style=\"color: red;\">\n",
              "The default version of TensorFlow in Colab will soon switch to TensorFlow 2.x.<br>\n",
              "We recommend you <a href=\"https://www.tensorflow.org/guide/migrate\" target=\"_blank\">upgrade</a> now \n",
              "or ensure your notebook will continue to use TensorFlow 1.x via the <code>%tensorflow_version 1.x</code> magic:\n",
              "<a href=\"https://colab.research.google.com/notebooks/tensorflow_version.ipynb\" target=\"_blank\">more info</a>.</p>\n"
            ],
            "text/plain": [
              "<IPython.core.display.HTML object>"
            ]
          },
          "metadata": {
            "tags": []
          }
        }
      ]
    },
    {
      "cell_type": "code",
      "metadata": {
        "id": "isRU_R6D5wrL",
        "colab_type": "code",
        "outputId": "d94da01a-3e52-4e3a-8299-58795dc7c887",
        "colab": {
          "base_uri": "https://localhost:8080/",
          "height": 34
        }
      },
      "source": [
        "#from keras.engine.input_layer import Input\n",
        "from keras.models import Model\n",
        "from keras.layers import Flatten, Conv2D, Conv2DTranspose, Dense, MaxPool2D, Dropout, Activation, BatchNormalization, Reshape, Input, Lambda\n",
        "from keras.layers.advanced_activations import LeakyReLU\n",
        "from keras.optimizers import Adam\n",
        "import keras.backend as K\n",
        "from keras.losses import mean_squared_error\n",
        "\n",
        "from keras.callbacks import Callback, ReduceLROnPlateau, ModelCheckpoint , LearningRateScheduler\n",
        "\n",
        "import numpy as np\n",
        "import matplotlib.pyplot as plt"
      ],
      "execution_count": 0,
      "outputs": [
        {
          "output_type": "stream",
          "text": [
            "Using TensorFlow backend.\n"
          ],
          "name": "stderr"
        }
      ]
    },
    {
      "cell_type": "code",
      "metadata": {
        "id": "8TYFfWmVYh6J",
        "colab_type": "code",
        "colab": {}
      },
      "source": [
        "class CustomCallback(Callback):\n",
        "\n",
        "  def LR_scheduler(self):\n",
        "    return ReduceLROnPlateau(monitor='loss', factor=0.1, patience=1, verbose=1)\n",
        "  \n",
        "  def step_decay_schedule(initial_lr, decay_factor, step_size):\n",
        "    '''\n",
        "    Wrapper function to create a LearningRateScheduler with step decay schedule.\n",
        "    '''\n",
        "    def schedule(epoch):\n",
        "        new_lr = initial_lr * (decay_factor ** np.floor(epoch/step_size))\n",
        "        \n",
        "        return new_lr\n",
        "\n",
        "    return LearningRateScheduler(schedule)\n",
        "\n",
        "def step_decay_schedule(initial_lr, decay_factor=0.5, step_size=1):\n",
        "  '''\n",
        "  Wrapper function to create a LearningRateScheduler with step decay schedule.\n",
        "  '''\n",
        "  def schedule(epoch):\n",
        "      new_lr = initial_lr * (decay_factor ** np.floor(epoch/step_size))\n",
        "      \n",
        "      return new_lr\n",
        "\n",
        "  return LearningRateScheduler(schedule, verbose=1) "
      ],
      "execution_count": 0,
      "outputs": []
    },
    {
      "cell_type": "code",
      "metadata": {
        "id": "TwA8XbBf2xti",
        "colab_type": "code",
        "colab": {}
      },
      "source": [
        "class Variational_AutoEncoder:\n",
        "\n",
        "  def __init__(self, input_dim, n_conv_layers, conv_layers_filters, conv_layers_kernels, conv_layers_strides, conv_transpose_layers_filters, conv_transpose_layers_kernels, conv_transpose_layers_strides, z_dim, learning_rate, r_loss_factor, x, y, epochs):\n",
        "    self.input_dim = input_dim\n",
        "    self.n_conv_layers = n_conv_layers\n",
        "    self.conv_layers_filters = conv_layers_filters\n",
        "    self.conv_layers_kernels = conv_layers_kernels\n",
        "    self.conv_layers_strides = conv_layers_strides\n",
        "    self.conv_transpose_layers_filters = conv_transpose_layers_filters\n",
        "    self.conv_transpose_layers_kernels = conv_transpose_layers_kernels\n",
        "    self.conv_transpose_layers_strides = conv_transpose_layers_strides\n",
        "    self.z_dim = z_dim\n",
        "    self.learning_rate = learning_rate\n",
        "    self.r_loss_factor = r_loss_factor\n",
        "    self.x = x\n",
        "    self.y = y\n",
        "    self.epochs = epochs\n",
        "\n",
        "  def Encoder(self):\n",
        "\n",
        "    self.encoder_input = Input(shape=(self.input_dim), name='Encoder_Input')\n",
        "    x = self.encoder_input\n",
        "\n",
        "    for i in range(self.n_conv_layers):\n",
        "\n",
        "      conv_layer = Conv2D(filters= self.conv_layers_filters[i],\n",
        "                          kernel_size= self.conv_layers_kernels[i],\n",
        "                          strides= self.conv_layers_strides[i],\n",
        "                          padding='same',\n",
        "                          name = 'Conv_Layer_'+str(i))\n",
        "      \n",
        "      x = conv_layer(x)\n",
        "      x = Dropout(0.25)(x)\n",
        "      x = LeakyReLU()(x)\n",
        "      x = BatchNormalization()(x)\n",
        "    # int_shape in used because using Keras.shape() will output a Tensor but int_shape outputs a tuple\n",
        "    \n",
        "    self.shape_before_flattening = K.int_shape(x)[1:]\n",
        "    x = Flatten()(x)\n",
        "\n",
        "    self.mu = Dense(self.z_dim, name='mu')(x)\n",
        "    self.log_var = Dense(self.z_dim, name='log_var')(x)\n",
        "\n",
        "    #self.encoder_mu_log_var = Model(encoder_input, (self.mu, self.log_var))\n",
        "\n",
        "    def sampling(args):\n",
        "      mu, log_var = args\n",
        "\n",
        "      epsilon = K.random_normal(K.shape(mu), mean=0.0, stddev=1.0)\n",
        "      return mu + K.exp(log_var/2)*epsilon\n",
        "\n",
        "    self.encoder_output = Lambda(sampling, name='encoder_output') ([self.mu, self.log_var])\n",
        "    self.encoder = Model(self.encoder_input, self.encoder_output)\n",
        "  \n",
        "  def Decoder(self,flag=0):\n",
        "    #if flag==1:\n",
        "    self.decoder_input = Input(shape=(self.z_dim,), name='Decoder_Input')\n",
        "    x = Dense(np.prod(self.shape_before_flattening))(self.decoder_input)\n",
        "    x = Reshape(self.shape_before_flattening)(x)\n",
        "\n",
        "    #else:\n",
        "    #  x = Dense(np.prod(self.shape_before_flattening))(self.encoder_output)\n",
        "    #  x = Reshape(self.shape_before_flattening)(x)\n",
        "                                                         \n",
        "    for i in range(self.n_conv_layers):\n",
        "\n",
        "      conv_transpose_layers = Conv2DTranspose(filters = self.conv_transpose_layers_filters[i],\n",
        "                                              kernel_size = self.conv_transpose_layers_kernels[i],\n",
        "                                              strides = self.conv_transpose_layers_strides[i],\n",
        "                                              padding='same',\n",
        "                                              name = 'conv_transpose_layer_'+str(i))\n",
        "      \n",
        "      x = conv_transpose_layers(x)\n",
        "      x = Dropout(0.25)(x)\n",
        "      \n",
        "\n",
        "      if i<self.n_conv_layers-1:\n",
        "        x = LeakyReLU()(x)\n",
        "      else:\n",
        "        x = Activation(activation='sigmoid')(x)\n",
        "      x = BatchNormalization()(x)\n",
        "\n",
        "    self.decoder_output = x\n",
        "    self.decoder = Model(self.decoder_input, self.decoder_output)\n",
        "\n",
        "\n",
        "  def Model_combine(self):\n",
        "    \n",
        "    #model_input = self.Encoder()\n",
        "    #model_output = self.Decoder()\n",
        "    self.Encoder()\n",
        "    self.Decoder()\n",
        "    model_input = self.encoder_input\n",
        "    model_output = self.decoder(self.encoder_output)\n",
        "    #self.model = Model(self.encoder_input, self.decoder_output)\n",
        "\n",
        "    self.model = Model(model_input, model_output)\n",
        "\n",
        "    return self.model\n",
        "\n",
        "  #def r_loss(y_true, y_pred):\n",
        "  #  return K.mean(K.square(y_true,y_pred), axis=[1,2,3])\n",
        "\n",
        "  def get_model(self):\n",
        "\n",
        "    self.model = self.Model_combine()\n",
        "\n",
        "    optimizer = Adam(lr=self.learning_rate)\n",
        "\n",
        "    def vae_r_loss(y_true,y_pred):\n",
        "      r_loss = K.mean(K.square(y_true - y_pred), axis = [1,2,3])\n",
        "      return self.r_loss_factor * r_loss\n",
        "\n",
        "    def vae_kl_loss(y_true, y_pred):\n",
        "\n",
        "      kl_loss = -0.5* K.sum(1+ self.log_var -K.pow(self.mu,2) - K.exp(self.log_var), axis=1)\n",
        "      return kl_loss\n",
        "\n",
        "    def vae_loss(y_true, y_pred):\n",
        "      r_loss = vae_r_loss(y_true, y_pred)\n",
        "      kl_loss = vae_kl_loss(y_true, y_pred)\n",
        "      return r_loss + kl_loss\n",
        "\n",
        "    self.model.compile(optimizer = optimizer, loss = vae_loss, metrics=[vae_r_loss, vae_kl_loss])\n",
        "    print(self.model.summary())\n",
        "\n",
        "    \n",
        "\n",
        "  def train(self):\n",
        "\n",
        "       \n",
        "\n",
        "    initial_lr = self.learning_rate\n",
        "    lr_scheduler = step_decay_schedule(initial_lr, 0.1, 5)\n",
        "\n",
        "    self.model.fit(self.x, self.y, batch_size=500, shuffle=True, epochs=self.epochs, callbacks=[lr_scheduler])\n",
        "    return self.model, self.encoder, self.decoder\n",
        "\n",
        "  def Encoder_model(self):\n",
        "    #self.Encoder()\n",
        "    #self.encoder = Model(self.encoder_input, self.encoder_output)\n",
        "    #optimizer = Adam(lr=self.learning_rate)\n",
        "    \n",
        "    #self.encoder.compile(optimizer = optimizer, loss = 'mean_squared_error')\n",
        "    print(self.encoder.summary())\n",
        "\n",
        "    return self.encoder\n",
        "\n",
        "  def Decoder_model(self):\n",
        "    #self.Encoder()\n",
        "    #self.Decoder(flag=1)\n",
        "    #self.decoder = Model(self.decoder_input, self.decoder_output)\n",
        "    #optimizer = Adam(lr=self.learning_rate)\n",
        "    \n",
        "    #self.decoder.compile(optimizer = optimizer, loss = 'mean_squared_error')\n",
        "    print(self.decoder.summary())\n",
        "    return self.decoder\n",
        "\n",
        "   \n"
      ],
      "execution_count": 0,
      "outputs": []
    },
    {
      "cell_type": "code",
      "metadata": {
        "id": "v6X7R1XIVqoe",
        "colab_type": "code",
        "outputId": "c3742c41-f9c5-4b1a-9279-8ac34679f307",
        "colab": {
          "base_uri": "https://localhost:8080/",
          "height": 498
        }
      },
      "source": [
        "from tensorflow.examples.tutorials.mnist import input_data\n",
        "mnist = input_data.read_data_sets('MNIST_data', validation_size=0)\n",
        "\n",
        "(x_train, y_train), (x_test, y_test) = (mnist.train.images, mnist.train.labels), (mnist.test.images, mnist.test.labels)\n",
        "train_images = x_train.reshape(60000,28,28,1)\n",
        "test_images = x_test.reshape(10000,28,28,1)"
      ],
      "execution_count": 0,
      "outputs": [
        {
          "output_type": "stream",
          "text": [
            "WARNING:tensorflow:From <ipython-input-5-de9e64603ff5>:2: read_data_sets (from tensorflow.contrib.learn.python.learn.datasets.mnist) is deprecated and will be removed in a future version.\n",
            "Instructions for updating:\n",
            "Please use alternatives such as official/mnist/dataset.py from tensorflow/models.\n",
            "WARNING:tensorflow:From /usr/local/lib/python3.6/dist-packages/tensorflow_core/contrib/learn/python/learn/datasets/mnist.py:260: maybe_download (from tensorflow.contrib.learn.python.learn.datasets.base) is deprecated and will be removed in a future version.\n",
            "Instructions for updating:\n",
            "Please write your own downloading logic.\n",
            "WARNING:tensorflow:From /usr/local/lib/python3.6/dist-packages/tensorflow_core/contrib/learn/python/learn/datasets/base.py:252: _internal_retry.<locals>.wrap.<locals>.wrapped_fn (from tensorflow.contrib.learn.python.learn.datasets.base) is deprecated and will be removed in a future version.\n",
            "Instructions for updating:\n",
            "Please use urllib or similar directly.\n",
            "Successfully downloaded train-images-idx3-ubyte.gz 9912422 bytes.\n",
            "WARNING:tensorflow:From /usr/local/lib/python3.6/dist-packages/tensorflow_core/contrib/learn/python/learn/datasets/mnist.py:262: extract_images (from tensorflow.contrib.learn.python.learn.datasets.mnist) is deprecated and will be removed in a future version.\n",
            "Instructions for updating:\n",
            "Please use tf.data to implement this functionality.\n",
            "Extracting MNIST_data/train-images-idx3-ubyte.gz\n",
            "Successfully downloaded train-labels-idx1-ubyte.gz 28881 bytes.\n",
            "WARNING:tensorflow:From /usr/local/lib/python3.6/dist-packages/tensorflow_core/contrib/learn/python/learn/datasets/mnist.py:267: extract_labels (from tensorflow.contrib.learn.python.learn.datasets.mnist) is deprecated and will be removed in a future version.\n",
            "Instructions for updating:\n",
            "Please use tf.data to implement this functionality.\n",
            "Extracting MNIST_data/train-labels-idx1-ubyte.gz\n",
            "Successfully downloaded t10k-images-idx3-ubyte.gz 1648877 bytes.\n",
            "Extracting MNIST_data/t10k-images-idx3-ubyte.gz\n",
            "Successfully downloaded t10k-labels-idx1-ubyte.gz 4542 bytes.\n",
            "Extracting MNIST_data/t10k-labels-idx1-ubyte.gz\n",
            "WARNING:tensorflow:From /usr/local/lib/python3.6/dist-packages/tensorflow_core/contrib/learn/python/learn/datasets/mnist.py:290: DataSet.__init__ (from tensorflow.contrib.learn.python.learn.datasets.mnist) is deprecated and will be removed in a future version.\n",
            "Instructions for updating:\n",
            "Please use alternatives such as official/mnist/dataset.py from tensorflow/models.\n"
          ],
          "name": "stdout"
        }
      ]
    },
    {
      "cell_type": "code",
      "metadata": {
        "id": "UjCrc_js9lAj",
        "colab_type": "code",
        "outputId": "53cf3284-cd04-4e14-9db1-31f3fad4af53",
        "colab": {
          "base_uri": "https://localhost:8080/",
          "height": 1000
        }
      },
      "source": [
        "VAE = Variational_AutoEncoder(input_dim = (28,28,1)\n",
        "    , n_conv_layers = 4  \n",
        "    , conv_layers_filters = [32,64,64, 64]\n",
        "    , conv_layers_kernels = [3,3,3,3]\n",
        "    , conv_layers_strides = [1,2,2,1]\n",
        "    , conv_transpose_layers_filters = [64,64,32,1]\n",
        "    , conv_transpose_layers_kernels = [3,3,3,3]\n",
        "    , conv_transpose_layers_strides = [1,2,2,1]\n",
        "    , z_dim = 2\n",
        "    , learning_rate = 0.005\n",
        "    , r_loss_factor = 1000\n",
        "    , x = train_images\n",
        "    , y = train_images\n",
        "    , epochs = 30\n",
        ")\n",
        "\n",
        "model = VAE.get_model()"
      ],
      "execution_count": 0,
      "outputs": [
        {
          "output_type": "stream",
          "text": [
            "WARNING:tensorflow:From /usr/local/lib/python3.6/dist-packages/keras/backend/tensorflow_backend.py:541: The name tf.placeholder is deprecated. Please use tf.compat.v1.placeholder instead.\n",
            "\n",
            "WARNING:tensorflow:From /usr/local/lib/python3.6/dist-packages/keras/backend/tensorflow_backend.py:4432: The name tf.random_uniform is deprecated. Please use tf.random.uniform instead.\n",
            "\n",
            "WARNING:tensorflow:From /usr/local/lib/python3.6/dist-packages/keras/backend/tensorflow_backend.py:66: The name tf.get_default_graph is deprecated. Please use tf.compat.v1.get_default_graph instead.\n",
            "\n",
            "WARNING:tensorflow:From /usr/local/lib/python3.6/dist-packages/keras/backend/tensorflow_backend.py:148: The name tf.placeholder_with_default is deprecated. Please use tf.compat.v1.placeholder_with_default instead.\n",
            "\n",
            "WARNING:tensorflow:From /usr/local/lib/python3.6/dist-packages/keras/backend/tensorflow_backend.py:3733: calling dropout (from tensorflow.python.ops.nn_ops) with keep_prob is deprecated and will be removed in a future version.\n",
            "Instructions for updating:\n",
            "Please use `rate` instead of `keep_prob`. Rate should be set to `rate = 1 - keep_prob`.\n",
            "WARNING:tensorflow:From /usr/local/lib/python3.6/dist-packages/keras/backend/tensorflow_backend.py:190: The name tf.get_default_session is deprecated. Please use tf.compat.v1.get_default_session instead.\n",
            "\n",
            "WARNING:tensorflow:From /usr/local/lib/python3.6/dist-packages/keras/backend/tensorflow_backend.py:197: The name tf.ConfigProto is deprecated. Please use tf.compat.v1.ConfigProto instead.\n",
            "\n",
            "WARNING:tensorflow:From /usr/local/lib/python3.6/dist-packages/keras/backend/tensorflow_backend.py:203: The name tf.Session is deprecated. Please use tf.compat.v1.Session instead.\n",
            "\n",
            "WARNING:tensorflow:From /usr/local/lib/python3.6/dist-packages/keras/backend/tensorflow_backend.py:207: The name tf.global_variables is deprecated. Please use tf.compat.v1.global_variables instead.\n",
            "\n",
            "WARNING:tensorflow:From /usr/local/lib/python3.6/dist-packages/keras/backend/tensorflow_backend.py:216: The name tf.is_variable_initialized is deprecated. Please use tf.compat.v1.is_variable_initialized instead.\n",
            "\n",
            "WARNING:tensorflow:From /usr/local/lib/python3.6/dist-packages/keras/backend/tensorflow_backend.py:223: The name tf.variables_initializer is deprecated. Please use tf.compat.v1.variables_initializer instead.\n",
            "\n",
            "WARNING:tensorflow:From /usr/local/lib/python3.6/dist-packages/keras/backend/tensorflow_backend.py:2041: The name tf.nn.fused_batch_norm is deprecated. Please use tf.compat.v1.nn.fused_batch_norm instead.\n",
            "\n",
            "WARNING:tensorflow:From /usr/local/lib/python3.6/dist-packages/keras/backend/tensorflow_backend.py:4409: The name tf.random_normal is deprecated. Please use tf.random.normal instead.\n",
            "\n",
            "WARNING:tensorflow:From /usr/local/lib/python3.6/dist-packages/keras/optimizers.py:793: The name tf.train.Optimizer is deprecated. Please use tf.compat.v1.train.Optimizer instead.\n",
            "\n",
            "Model: \"model_3\"\n",
            "__________________________________________________________________________________________________\n",
            "Layer (type)                    Output Shape         Param #     Connected to                     \n",
            "==================================================================================================\n",
            "Encoder_Input (InputLayer)      (None, 28, 28, 1)    0                                            \n",
            "__________________________________________________________________________________________________\n",
            "Conv_Layer_0 (Conv2D)           (None, 28, 28, 32)   320         Encoder_Input[0][0]              \n",
            "__________________________________________________________________________________________________\n",
            "dropout_1 (Dropout)             (None, 28, 28, 32)   0           Conv_Layer_0[0][0]               \n",
            "__________________________________________________________________________________________________\n",
            "leaky_re_lu_1 (LeakyReLU)       (None, 28, 28, 32)   0           dropout_1[0][0]                  \n",
            "__________________________________________________________________________________________________\n",
            "batch_normalization_1 (BatchNor (None, 28, 28, 32)   128         leaky_re_lu_1[0][0]              \n",
            "__________________________________________________________________________________________________\n",
            "Conv_Layer_1 (Conv2D)           (None, 14, 14, 64)   18496       batch_normalization_1[0][0]      \n",
            "__________________________________________________________________________________________________\n",
            "dropout_2 (Dropout)             (None, 14, 14, 64)   0           Conv_Layer_1[0][0]               \n",
            "__________________________________________________________________________________________________\n",
            "leaky_re_lu_2 (LeakyReLU)       (None, 14, 14, 64)   0           dropout_2[0][0]                  \n",
            "__________________________________________________________________________________________________\n",
            "batch_normalization_2 (BatchNor (None, 14, 14, 64)   256         leaky_re_lu_2[0][0]              \n",
            "__________________________________________________________________________________________________\n",
            "Conv_Layer_2 (Conv2D)           (None, 7, 7, 64)     36928       batch_normalization_2[0][0]      \n",
            "__________________________________________________________________________________________________\n",
            "dropout_3 (Dropout)             (None, 7, 7, 64)     0           Conv_Layer_2[0][0]               \n",
            "__________________________________________________________________________________________________\n",
            "leaky_re_lu_3 (LeakyReLU)       (None, 7, 7, 64)     0           dropout_3[0][0]                  \n",
            "__________________________________________________________________________________________________\n",
            "batch_normalization_3 (BatchNor (None, 7, 7, 64)     256         leaky_re_lu_3[0][0]              \n",
            "__________________________________________________________________________________________________\n",
            "Conv_Layer_3 (Conv2D)           (None, 7, 7, 64)     36928       batch_normalization_3[0][0]      \n",
            "__________________________________________________________________________________________________\n",
            "dropout_4 (Dropout)             (None, 7, 7, 64)     0           Conv_Layer_3[0][0]               \n",
            "__________________________________________________________________________________________________\n",
            "leaky_re_lu_4 (LeakyReLU)       (None, 7, 7, 64)     0           dropout_4[0][0]                  \n",
            "__________________________________________________________________________________________________\n",
            "batch_normalization_4 (BatchNor (None, 7, 7, 64)     256         leaky_re_lu_4[0][0]              \n",
            "__________________________________________________________________________________________________\n",
            "flatten_1 (Flatten)             (None, 3136)         0           batch_normalization_4[0][0]      \n",
            "__________________________________________________________________________________________________\n",
            "mu (Dense)                      (None, 2)            6274        flatten_1[0][0]                  \n",
            "__________________________________________________________________________________________________\n",
            "log_var (Dense)                 (None, 2)            6274        flatten_1[0][0]                  \n",
            "__________________________________________________________________________________________________\n",
            "encoder_output (Lambda)         (None, 2)            0           mu[0][0]                         \n",
            "                                                                 log_var[0][0]                    \n",
            "__________________________________________________________________________________________________\n",
            "model_2 (Model)                 (None, 28, 28, 1)    102661      encoder_output[0][0]             \n",
            "==================================================================================================\n",
            "Total params: 208,777\n",
            "Trainable params: 208,007\n",
            "Non-trainable params: 770\n",
            "__________________________________________________________________________________________________\n",
            "None\n"
          ],
          "name": "stdout"
        }
      ]
    },
    {
      "cell_type": "code",
      "metadata": {
        "id": "jLf9NFTZ-CTE",
        "colab_type": "code",
        "outputId": "b1e6900e-009b-4d23-fd0c-34196a106cc5",
        "colab": {
          "base_uri": "https://localhost:8080/",
          "height": 1000
        }
      },
      "source": [
        "model, encoder, decoder = VAE.train()"
      ],
      "execution_count": 0,
      "outputs": [
        {
          "output_type": "stream",
          "text": [
            "WARNING:tensorflow:From /usr/local/lib/python3.6/dist-packages/tensorflow_core/python/ops/math_grad.py:1375: where (from tensorflow.python.ops.array_ops) is deprecated and will be removed in a future version.\n",
            "Instructions for updating:\n",
            "Use tf.where in 2.0, which has the same broadcast rule as np.where\n",
            "WARNING:tensorflow:From /usr/local/lib/python3.6/dist-packages/keras/backend/tensorflow_backend.py:1033: The name tf.assign_add is deprecated. Please use tf.compat.v1.assign_add instead.\n",
            "\n",
            "WARNING:tensorflow:From /usr/local/lib/python3.6/dist-packages/keras/backend/tensorflow_backend.py:1020: The name tf.assign is deprecated. Please use tf.compat.v1.assign instead.\n",
            "\n",
            "Epoch 1/30\n",
            "\n",
            "Epoch 00001: LearningRateScheduler setting learning rate to 0.005.\n",
            "60000/60000 [==============================] - 12s 201us/step - loss: 440.9876 - vae_r_loss: 432.2273 - vae_kl_loss: 8.7603\n",
            "Epoch 2/30\n",
            "\n",
            "Epoch 00002: LearningRateScheduler setting learning rate to 0.005.\n",
            "60000/60000 [==============================] - 6s 105us/step - loss: 112.9985 - vae_r_loss: 109.2038 - vae_kl_loss: 3.7947\n",
            "Epoch 3/30\n",
            "\n",
            "Epoch 00003: LearningRateScheduler setting learning rate to 0.005.\n",
            "60000/60000 [==============================] - 6s 104us/step - loss: 70.8371 - vae_r_loss: 67.7578 - vae_kl_loss: 3.0793\n",
            "Epoch 4/30\n",
            "\n",
            "Epoch 00004: LearningRateScheduler setting learning rate to 0.005.\n",
            "60000/60000 [==============================] - 6s 104us/step - loss: 68.1521 - vae_r_loss: 65.2561 - vae_kl_loss: 2.8960\n",
            "Epoch 5/30\n",
            "\n",
            "Epoch 00005: LearningRateScheduler setting learning rate to 0.005.\n",
            "60000/60000 [==============================] - 6s 104us/step - loss: 67.7255 - vae_r_loss: 64.8172 - vae_kl_loss: 2.9083\n",
            "Epoch 6/30\n",
            "\n",
            "Epoch 00006: LearningRateScheduler setting learning rate to 0.0005.\n",
            "60000/60000 [==============================] - 6s 104us/step - loss: 67.1710 - vae_r_loss: 64.2954 - vae_kl_loss: 2.8756\n",
            "Epoch 7/30\n",
            "\n",
            "Epoch 00007: LearningRateScheduler setting learning rate to 0.0005.\n",
            "60000/60000 [==============================] - 6s 106us/step - loss: 67.0499 - vae_r_loss: 64.1767 - vae_kl_loss: 2.8732\n",
            "Epoch 8/30\n",
            "\n",
            "Epoch 00008: LearningRateScheduler setting learning rate to 0.0005.\n",
            "60000/60000 [==============================] - 6s 106us/step - loss: 66.9841 - vae_r_loss: 64.0982 - vae_kl_loss: 2.8859\n",
            "Epoch 9/30\n",
            "\n",
            "Epoch 00009: LearningRateScheduler setting learning rate to 0.0005.\n",
            "60000/60000 [==============================] - 6s 105us/step - loss: 66.9496 - vae_r_loss: 64.0505 - vae_kl_loss: 2.8991\n",
            "Epoch 10/30\n",
            "\n",
            "Epoch 00010: LearningRateScheduler setting learning rate to 0.0005.\n",
            "60000/60000 [==============================] - 6s 105us/step - loss: 66.8580 - vae_r_loss: 63.9414 - vae_kl_loss: 2.9166\n",
            "Epoch 11/30\n",
            "\n",
            "Epoch 00011: LearningRateScheduler setting learning rate to 5.000000000000001e-05.\n",
            "60000/60000 [==============================] - 6s 105us/step - loss: 66.8192 - vae_r_loss: 63.9122 - vae_kl_loss: 2.9070\n",
            "Epoch 12/30\n",
            "\n",
            "Epoch 00012: LearningRateScheduler setting learning rate to 5.000000000000001e-05.\n",
            "60000/60000 [==============================] - 6s 105us/step - loss: 66.7985 - vae_r_loss: 63.8998 - vae_kl_loss: 2.8987\n",
            "Epoch 13/30\n",
            "\n",
            "Epoch 00013: LearningRateScheduler setting learning rate to 5.000000000000001e-05.\n",
            "60000/60000 [==============================] - 6s 104us/step - loss: 66.8000 - vae_r_loss: 63.8877 - vae_kl_loss: 2.9123\n",
            "Epoch 14/30\n",
            "\n",
            "Epoch 00014: LearningRateScheduler setting learning rate to 5.000000000000001e-05.\n",
            "60000/60000 [==============================] - 6s 106us/step - loss: 66.7863 - vae_r_loss: 63.8725 - vae_kl_loss: 2.9139\n",
            "Epoch 15/30\n",
            "\n",
            "Epoch 00015: LearningRateScheduler setting learning rate to 5.000000000000001e-05.\n",
            "60000/60000 [==============================] - 6s 106us/step - loss: 66.7805 - vae_r_loss: 63.8606 - vae_kl_loss: 2.9199\n",
            "Epoch 16/30\n",
            "\n",
            "Epoch 00016: LearningRateScheduler setting learning rate to 5.000000000000001e-06.\n",
            "60000/60000 [==============================] - 6s 105us/step - loss: 66.7642 - vae_r_loss: 63.8401 - vae_kl_loss: 2.9240\n",
            "Epoch 17/30\n",
            "\n",
            "Epoch 00017: LearningRateScheduler setting learning rate to 5.000000000000001e-06.\n",
            "60000/60000 [==============================] - 6s 105us/step - loss: 66.7645 - vae_r_loss: 63.8498 - vae_kl_loss: 2.9147\n",
            "Epoch 18/30\n",
            "\n",
            "Epoch 00018: LearningRateScheduler setting learning rate to 5.000000000000001e-06.\n",
            "60000/60000 [==============================] - 6s 104us/step - loss: 66.7488 - vae_r_loss: 63.8296 - vae_kl_loss: 2.9193\n",
            "Epoch 19/30\n",
            "\n",
            "Epoch 00019: LearningRateScheduler setting learning rate to 5.000000000000001e-06.\n",
            "60000/60000 [==============================] - 6s 105us/step - loss: 66.7785 - vae_r_loss: 63.8611 - vae_kl_loss: 2.9174\n",
            "Epoch 20/30\n",
            "\n",
            "Epoch 00020: LearningRateScheduler setting learning rate to 5.000000000000001e-06.\n",
            "60000/60000 [==============================] - 6s 104us/step - loss: 66.7750 - vae_r_loss: 63.8555 - vae_kl_loss: 2.9195\n",
            "Epoch 21/30\n",
            "\n",
            "Epoch 00021: LearningRateScheduler setting learning rate to 5.000000000000001e-07.\n",
            "60000/60000 [==============================] - 6s 105us/step - loss: 66.7647 - vae_r_loss: 63.8493 - vae_kl_loss: 2.9154\n",
            "Epoch 22/30\n",
            "\n",
            "Epoch 00022: LearningRateScheduler setting learning rate to 5.000000000000001e-07.\n",
            "60000/60000 [==============================] - 6s 105us/step - loss: 66.7589 - vae_r_loss: 63.8436 - vae_kl_loss: 2.9153\n",
            "Epoch 23/30\n",
            "\n",
            "Epoch 00023: LearningRateScheduler setting learning rate to 5.000000000000001e-07.\n",
            "60000/60000 [==============================] - 6s 104us/step - loss: 66.7746 - vae_r_loss: 63.8587 - vae_kl_loss: 2.9160\n",
            "Epoch 24/30\n",
            "\n",
            "Epoch 00024: LearningRateScheduler setting learning rate to 5.000000000000001e-07.\n",
            "60000/60000 [==============================] - 6s 104us/step - loss: 66.7662 - vae_r_loss: 63.8503 - vae_kl_loss: 2.9159\n",
            "Epoch 25/30\n",
            "\n",
            "Epoch 00025: LearningRateScheduler setting learning rate to 5.000000000000001e-07.\n",
            "60000/60000 [==============================] - 6s 104us/step - loss: 66.7506 - vae_r_loss: 63.8357 - vae_kl_loss: 2.9149\n",
            "Epoch 26/30\n",
            "\n",
            "Epoch 00026: LearningRateScheduler setting learning rate to 5.000000000000001e-08.\n",
            "60000/60000 [==============================] - 6s 105us/step - loss: 66.7519 - vae_r_loss: 63.8338 - vae_kl_loss: 2.9182\n",
            "Epoch 27/30\n",
            "\n",
            "Epoch 00027: LearningRateScheduler setting learning rate to 5.000000000000001e-08.\n",
            "60000/60000 [==============================] - 6s 104us/step - loss: 66.7990 - vae_r_loss: 63.8800 - vae_kl_loss: 2.9190\n",
            "Epoch 28/30\n",
            "\n",
            "Epoch 00028: LearningRateScheduler setting learning rate to 5.000000000000001e-08.\n",
            "60000/60000 [==============================] - 6s 104us/step - loss: 66.7691 - vae_r_loss: 63.8507 - vae_kl_loss: 2.9184\n",
            "Epoch 29/30\n",
            "\n",
            "Epoch 00029: LearningRateScheduler setting learning rate to 5.000000000000001e-08.\n",
            "60000/60000 [==============================] - 6s 104us/step - loss: 66.7882 - vae_r_loss: 63.8689 - vae_kl_loss: 2.9193\n",
            "Epoch 30/30\n",
            "\n",
            "Epoch 00030: LearningRateScheduler setting learning rate to 5.000000000000001e-08.\n",
            "60000/60000 [==============================] - 6s 104us/step - loss: 66.7614 - vae_r_loss: 63.8420 - vae_kl_loss: 2.9194\n"
          ],
          "name": "stdout"
        }
      ]
    },
    {
      "cell_type": "code",
      "metadata": {
        "id": "6tj2q69CAgDF",
        "colab_type": "code",
        "colab": {}
      },
      "source": [
        "#model.fit(x=train_images, y=train_images, batch_size=500, shuffle=True, epochs=20)"
      ],
      "execution_count": 0,
      "outputs": []
    },
    {
      "cell_type": "code",
      "metadata": {
        "id": "qjkYaD4_Akzh",
        "colab_type": "code",
        "outputId": "de542e52-3037-4eff-9914-cc39dd987f66",
        "colab": {
          "base_uri": "https://localhost:8080/",
          "height": 187
        }
      },
      "source": [
        "n_to_show = 10\n",
        "example_idx = np.random.choice(range(len(test_images)), n_to_show)\n",
        "example_images = test_images[example_idx]\n",
        "\n",
        "z_points = encoder.predict(example_images)\n",
        "reconst_images = decoder.predict(z_points)\n",
        "\n",
        "fig = plt.figure(figsize=(15, 3))\n",
        "fig.subplots_adjust(hspace=0.4, wspace=0.4)\n",
        "\n",
        "for i in range(n_to_show):\n",
        "    img = example_images[i].squeeze()\n",
        "    ax = fig.add_subplot(2, n_to_show, i+1)\n",
        "    ax.axis('off')\n",
        "    ax.text(0.5, -0.35, str(np.round(z_points[i],1)), fontsize=10, ha='center', transform=ax.transAxes)   \n",
        "    ax.imshow(img, cmap='gray_r')\n",
        "\n",
        "for i in range(n_to_show):\n",
        "    img = reconst_images[i].squeeze()\n",
        "    ax = fig.add_subplot(2, n_to_show, i+n_to_show+1)\n",
        "    ax.axis('off')\n",
        "    ax.imshow(img, cmap='gray_r')"
      ],
      "execution_count": 0,
      "outputs": [
        {
          "output_type": "display_data",
          "data": {
            "image/png": "[encoded data removed]",
            "text/plain": [
              "<Figure size 1080x216 with 20 Axes>"
            ]
          },
          "metadata": {
            "tags": []
          }
        }
      ]
    },
    {
      "cell_type": "code",
      "metadata": {
        "id": "36Tx7MA8p7Ct",
        "colab_type": "code",
        "colab": {}
      },
      "source": [
        ""
      ],
      "execution_count": 0,
      "outputs": []
    },
    {
      "cell_type": "code",
      "metadata": {
        "id": "D16ORsukqRrt",
        "colab_type": "code",
        "colab": {}
      },
      "source": [
        ""
      ],
      "execution_count": 0,
      "outputs": []
    },
    {
      "cell_type": "code",
      "metadata": {
        "id": "1uzEC6FlqRv9",
        "colab_type": "code",
        "colab": {}
      },
      "source": [
        ""
      ],
      "execution_count": 0,
      "outputs": []
    },
    {
      "cell_type": "code",
      "metadata": {
        "id": "RmJz0vCkqR32",
        "colab_type": "code",
        "colab": {}
      },
      "source": [
        ""
      ],
      "execution_count": 0,
      "outputs": []
    },
    {
      "cell_type": "code",
      "metadata": {
        "id": "uMDNBbx5qR0w",
        "colab_type": "code",
        "colab": {}
      },
      "source": [
        "input_dim = (28,28,1)\n",
        "n_conv_layers = 4  \n",
        "conv_layers_filters = [32,64,64, 64]\n",
        "conv_layers_kernels = [3,3,3,3]\n",
        "conv_layers_strides = [1,2,2,1]\n",
        "conv_transpose_layers_filters = [64,64,32,1]\n",
        "conv_transpose_layers_kernels = [3,3,3,3]\n",
        "conv_transpose_layers_strides = [1,2,2,1]\n",
        "z_dim = 2\n",
        "encoder = 0\n",
        "decoder = 0\n",
        "model = 0\n",
        "learning_rate = 0.005\n",
        "r_loss_factor = 1000\n",
        "img_x = train_images\n",
        "img_y = train_images\n",
        "epochs = 5\n",
        "\n",
        "encoder_input = Input(shape=(input_dim), name='Encoder_Input')\n",
        "x = encoder_input\n",
        "\n",
        "for i in range(n_conv_layers):\n",
        "\n",
        "  conv_layer = Conv2D(filters= conv_layers_filters[i],\n",
        "                      kernel_size= conv_layers_kernels[i],\n",
        "                      strides= conv_layers_strides[i],\n",
        "                      padding='same',\n",
        "                      name = 'Conv_Layer_'+str(i))\n",
        "  \n",
        "  x = conv_layer(x)\n",
        "  x = Dropout(0.25)(x)\n",
        "  x = LeakyReLU()(x)\n",
        "  x = BatchNormalization()(x)\n",
        "# int_shape in used because using Keras.shape() will output a Tensor but int_shape outputs a tuple\n",
        "\n",
        "shape_before_flattening = K.int_shape(x)[1:]\n",
        "x = Flatten()(x)\n",
        "\n",
        "mu = Dense(z_dim, name='mu')(x)\n",
        "log_var = Dense(z_dim, name='log_var')(x)\n",
        "\n",
        "#self.encoder_mu_log_var = Model(encoder_input, (self.mu, self.log_var))\n",
        "\n",
        "def sampling(args):\n",
        "  mu, log_var = args\n",
        "\n",
        "  epsilon = K.random_normal(K.shape(mu), mean=0.0, stddev=1.0)\n",
        "  return mu + K.exp(log_var/2)*epsilon\n",
        "\n",
        "encoder_output = Lambda(sampling, name='encoder_output') ([mu, log_var])\n",
        "encoder = Model(encoder_input, encoder_output)\n",
        "\n"
      ],
      "execution_count": 0,
      "outputs": []
    },
    {
      "cell_type": "code",
      "metadata": {
        "id": "U2s2c8FYqYpV",
        "colab_type": "code",
        "colab": {}
      },
      "source": [
        "decoder_input = Input(shape=(z_dim,), name='Decoder_Input')\n",
        "\n",
        "y = Dense(np.prod(shape_before_flattening))(decoder_input)\n",
        "y = Reshape(shape_before_flattening)(y)\n",
        "\n",
        "for i in range(n_conv_layers):\n",
        "\n",
        "  conv_transpose_layers = Conv2DTranspose(filters = conv_transpose_layers_filters[i],\n",
        "                                          kernel_size = conv_transpose_layers_kernels[i],\n",
        "                                          strides = conv_transpose_layers_strides[i],\n",
        "                                          padding='same',\n",
        "                                          name = 'conv_transpose_layer_'+str(i))\n",
        "  \n",
        "  y = conv_transpose_layers(y)\n",
        "\n",
        "  if i<n_conv_layers-1:\n",
        "    y = LeakyReLU()(y)\n",
        "  else:\n",
        "    y = Activation(activation='sigmoid')(y)\n",
        "\n",
        "decoder_output = y\n",
        "decoder = Model(decoder_input, decoder_output)\n",
        "#decoder.compile(optimizer='Adam', loss='mean_squared_error')\n",
        "#print(decoder.summary())"
      ],
      "execution_count": 0,
      "outputs": []
    },
    {
      "cell_type": "code",
      "metadata": {
        "id": "q5pksHO2qbHe",
        "colab_type": "code",
        "colab": {}
      },
      "source": [
        "model_input = encoder_input\n",
        "model_output = decoder(encoder_output)\n",
        "model = Model(model_input, model_output)"
      ],
      "execution_count": 0,
      "outputs": []
    },
    {
      "cell_type": "code",
      "metadata": {
        "id": "qY2qoZW4qbyW",
        "colab_type": "code",
        "outputId": "49704e3f-660a-4d59-b7d6-6e2f487d45a7",
        "colab": {
          "base_uri": "https://localhost:8080/",
          "height": 976
        }
      },
      "source": [
        "def vae_r_loss(y_true, y_pred):\n",
        "    r_loss = K.mean(K.square(y_true - y_pred), axis = [1,2,3])\n",
        "    return r_loss_factor * r_loss\n",
        "\n",
        "def vae_kl_loss(y_true, y_pred):\n",
        "    kl_loss =  -0.5 * K.sum(1 + log_var - K.square(mu) - K.exp(log_var), axis = 1)\n",
        "    return kl_loss\n",
        "\n",
        "def vae_loss(y_true, y_pred):\n",
        "    r_loss = vae_r_loss(y_true, y_pred)\n",
        "    kl_loss = vae_kl_loss(y_true, y_pred)\n",
        "    return  r_loss + kl_loss\n",
        "\n",
        "optimizer = Adam(lr=learning_rate)\n",
        "\n",
        "model.compile(optimizer=optimizer, loss = vae_loss,  metrics = [vae_r_loss, vae_kl_loss])\n",
        "print(model.summary())"
      ],
      "execution_count": 0,
      "outputs": [
        {
          "output_type": "stream",
          "text": [
            "Model: \"model_91\"\n",
            "__________________________________________________________________________________________________\n",
            "Layer (type)                    Output Shape         Param #     Connected to                     \n",
            "==================================================================================================\n",
            "Encoder_Input (InputLayer)      (None, 28, 28, 1)    0                                            \n",
            "__________________________________________________________________________________________________\n",
            "Conv_Layer_0 (Conv2D)           (None, 28, 28, 32)   320         Encoder_Input[0][0]              \n",
            "__________________________________________________________________________________________________\n",
            "dropout_217 (Dropout)           (None, 28, 28, 32)   0           Conv_Layer_0[0][0]               \n",
            "__________________________________________________________________________________________________\n",
            "leaky_re_lu_202 (LeakyReLU)     (None, 28, 28, 32)   0           dropout_217[0][0]                \n",
            "__________________________________________________________________________________________________\n",
            "batch_normalization_217 (BatchN (None, 28, 28, 32)   128         leaky_re_lu_202[0][0]            \n",
            "__________________________________________________________________________________________________\n",
            "Conv_Layer_1 (Conv2D)           (None, 14, 14, 64)   18496       batch_normalization_217[0][0]    \n",
            "__________________________________________________________________________________________________\n",
            "dropout_218 (Dropout)           (None, 14, 14, 64)   0           Conv_Layer_1[0][0]               \n",
            "__________________________________________________________________________________________________\n",
            "leaky_re_lu_203 (LeakyReLU)     (None, 14, 14, 64)   0           dropout_218[0][0]                \n",
            "__________________________________________________________________________________________________\n",
            "batch_normalization_218 (BatchN (None, 14, 14, 64)   256         leaky_re_lu_203[0][0]            \n",
            "__________________________________________________________________________________________________\n",
            "Conv_Layer_2 (Conv2D)           (None, 7, 7, 64)     36928       batch_normalization_218[0][0]    \n",
            "__________________________________________________________________________________________________\n",
            "dropout_219 (Dropout)           (None, 7, 7, 64)     0           Conv_Layer_2[0][0]               \n",
            "__________________________________________________________________________________________________\n",
            "leaky_re_lu_204 (LeakyReLU)     (None, 7, 7, 64)     0           dropout_219[0][0]                \n",
            "__________________________________________________________________________________________________\n",
            "batch_normalization_219 (BatchN (None, 7, 7, 64)     256         leaky_re_lu_204[0][0]            \n",
            "__________________________________________________________________________________________________\n",
            "Conv_Layer_3 (Conv2D)           (None, 7, 7, 64)     36928       batch_normalization_219[0][0]    \n",
            "__________________________________________________________________________________________________\n",
            "dropout_220 (Dropout)           (None, 7, 7, 64)     0           Conv_Layer_3[0][0]               \n",
            "__________________________________________________________________________________________________\n",
            "leaky_re_lu_205 (LeakyReLU)     (None, 7, 7, 64)     0           dropout_220[0][0]                \n",
            "__________________________________________________________________________________________________\n",
            "batch_normalization_220 (BatchN (None, 7, 7, 64)     256         leaky_re_lu_205[0][0]            \n",
            "__________________________________________________________________________________________________\n",
            "flatten_31 (Flatten)            (None, 3136)         0           batch_normalization_220[0][0]    \n",
            "__________________________________________________________________________________________________\n",
            "mu (Dense)                      (None, 2)            6274        flatten_31[0][0]                 \n",
            "__________________________________________________________________________________________________\n",
            "log_var (Dense)                 (None, 2)            6274        flatten_31[0][0]                 \n",
            "__________________________________________________________________________________________________\n",
            "encoder_output (Lambda)         (None, 2)            0           mu[0][0]                         \n",
            "                                                                 log_var[0][0]                    \n",
            "__________________________________________________________________________________________________\n",
            "model_90 (Model)                (None, 28, 28, 1)    102017      encoder_output[0][0]             \n",
            "==================================================================================================\n",
            "Total params: 208,133\n",
            "Trainable params: 207,685\n",
            "Non-trainable params: 448\n",
            "__________________________________________________________________________________________________\n",
            "None\n"
          ],
          "name": "stdout"
        }
      ]
    },
    {
      "cell_type": "code",
      "metadata": {
        "id": "54JDvFJqsBwD",
        "colab_type": "code",
        "outputId": "ede8ad42-df81-41f1-fecf-4b294597954a",
        "colab": {
          "base_uri": "https://localhost:8080/",
          "height": 212
        }
      },
      "source": [
        "model.fit(img_x, img_y, batch_size=500, shuffle=True, epochs=epochs)"
      ],
      "execution_count": 0,
      "outputs": [
        {
          "output_type": "stream",
          "text": [
            "Epoch 1/5\n",
            "60000/60000 [==============================] - 31s 516us/step - loss: 70.7351 - vae_r_loss: 66.5253 - vae_kl_loss: 4.2098\n",
            "Epoch 2/5\n",
            "60000/60000 [==============================] - 17s 283us/step - loss: 56.1323 - vae_r_loss: 52.4677 - vae_kl_loss: 3.6646\n",
            "Epoch 3/5\n",
            "60000/60000 [==============================] - 17s 283us/step - loss: 54.4114 - vae_r_loss: 50.5818 - vae_kl_loss: 3.8296\n",
            "Epoch 4/5\n",
            "60000/60000 [==============================] - 17s 282us/step - loss: 53.2697 - vae_r_loss: 49.3854 - vae_kl_loss: 3.8842\n",
            "Epoch 5/5\n",
            "60000/60000 [==============================] - 17s 283us/step - loss: 52.4571 - vae_r_loss: 48.5291 - vae_kl_loss: 3.9281\n"
          ],
          "name": "stdout"
        },
        {
          "output_type": "execute_result",
          "data": {
            "text/plain": [
              "<keras.callbacks.History at 0x7f6b49fde1d0>"
            ]
          },
          "metadata": {
            "tags": []
          },
          "execution_count": 143
        }
      ]
    },
    {
      "cell_type": "code",
      "metadata": {
        "id": "yDBEBr1UtAOC",
        "colab_type": "code",
        "outputId": "5427dc28-1293-4fea-a81e-cdb503fac98d",
        "colab": {
          "base_uri": "https://localhost:8080/",
          "height": 187
        }
      },
      "source": [
        "n_to_show = 10\n",
        "example_idx = np.random.choice(range(len(test_images)), n_to_show)\n",
        "example_images = test_images[example_idx]\n",
        "\n",
        "z_points = encoder.predict(example_images)\n",
        "reconst_images = decoder.predict(z_points)\n",
        "\n",
        "fig = plt.figure(figsize=(15, 3))\n",
        "fig.subplots_adjust(hspace=0.4, wspace=0.4)\n",
        "\n",
        "for i in range(n_to_show):\n",
        "    img = example_images[i].squeeze()\n",
        "    ax = fig.add_subplot(2, n_to_show, i+1)\n",
        "    ax.axis('off')\n",
        "    ax.text(0.5, -0.35, str(np.round(z_points[i],1)), fontsize=10, ha='center', transform=ax.transAxes)   \n",
        "    ax.imshow(img, cmap='gray_r')\n",
        "\n",
        "for i in range(n_to_show):\n",
        "    img = reconst_images[i].squeeze()\n",
        "    ax = fig.add_subplot(2, n_to_show, i+n_to_show+1)\n",
        "    ax.axis('off')\n",
        "    ax.imshow(img, cmap='gray_r')"
      ],
      "execution_count": 0,
      "outputs": [
        {
          "output_type": "display_data",
          "data": {
            "image/png": "[encoded data removed]",
            "text/plain": [
              "<Figure size 1080x216 with 20 Axes>"
            ]
          },
          "metadata": {
            "tags": []
          }
        }
      ]
    },
    {
      "cell_type": "code",
      "metadata": {
        "id": "nQaiRvHgwQ8A",
        "colab_type": "code",
        "colab": {}
      },
      "source": [
        ""
      ],
      "execution_count": 0,
      "outputs": []
    },
    {
      "cell_type": "code",
      "metadata": {
        "id": "bevKHIFn3OIf",
        "colab_type": "code",
        "colab": {}
      },
      "source": [
        ""
      ],
      "execution_count": 0,
      "outputs": []
    },
    {
      "cell_type": "code",
      "metadata": {
        "id": "CZ3A9-Il3ONu",
        "colab_type": "code",
        "colab": {}
      },
      "source": [
        ""
      ],
      "execution_count": 0,
      "outputs": []
    },
    {
      "cell_type": "code",
      "metadata": {
        "id": "tY7yqxW63OMG",
        "colab_type": "code",
        "colab": {}
      },
      "source": [
        ""
      ],
      "execution_count": 0,
      "outputs": []
    },
    {
      "cell_type": "code",
      "metadata": {
        "id": "HhsvI1Oi3OGO",
        "colab_type": "code",
        "colab": {}
      },
      "source": [
        ""
      ],
      "execution_count": 0,
      "outputs": []
    },
    {
      "cell_type": "code",
      "metadata": {
        "id": "cI7Deufa3ODe",
        "colab_type": "code",
        "colab": {}
      },
      "source": [
        "\n",
        "from keras.layers import Input, Conv2D, Flatten, Dense, Conv2DTranspose, Reshape, Lambda, Activation, BatchNormalization, LeakyReLU, Dropout\n",
        "from keras.models import Model\n",
        "from keras import backend as K\n",
        "from keras.optimizers import Adam\n",
        "from keras.callbacks import ModelCheckpoint \n",
        "from keras.utils import plot_model\n",
        "\n",
        "import numpy as np\n",
        "import json\n",
        "import os\n",
        "import pickle\n",
        "\n",
        "\n",
        "class VariationalAutoencoder():\n",
        "    def __init__(self\n",
        "        , input_dim\n",
        "        , encoder_conv_filters\n",
        "        , encoder_conv_kernel_size\n",
        "        , encoder_conv_strides\n",
        "        , decoder_conv_t_filters\n",
        "        , decoder_conv_t_kernel_size\n",
        "        , decoder_conv_t_strides\n",
        "        , z_dim\n",
        "        , use_batch_norm = False\n",
        "        , use_dropout= False\n",
        "        ):\n",
        "\n",
        "        self.name = 'variational_autoencoder'\n",
        "\n",
        "        self.input_dim = input_dim\n",
        "        self.encoder_conv_filters = encoder_conv_filters\n",
        "        self.encoder_conv_kernel_size = encoder_conv_kernel_size\n",
        "        self.encoder_conv_strides = encoder_conv_strides\n",
        "        self.decoder_conv_t_filters = decoder_conv_t_filters\n",
        "        self.decoder_conv_t_kernel_size = decoder_conv_t_kernel_size\n",
        "        self.decoder_conv_t_strides = decoder_conv_t_strides\n",
        "        self.z_dim = z_dim\n",
        "\n",
        "        self.use_batch_norm = use_batch_norm\n",
        "        self.use_dropout = use_dropout\n",
        "\n",
        "        self.n_layers_encoder = len(encoder_conv_filters)\n",
        "        self.n_layers_decoder = len(decoder_conv_t_filters)\n",
        "\n",
        "        self._build()\n",
        "\n",
        "    def _build(self):\n",
        "        \n",
        "        ### THE ENCODER\n",
        "        encoder_input = Input(shape=self.input_dim, name='encoder_input')\n",
        "\n",
        "        x = encoder_input\n",
        "\n",
        "        for i in range(self.n_layers_encoder):\n",
        "            conv_layer = Conv2D(\n",
        "                filters = self.encoder_conv_filters[i]\n",
        "                , kernel_size = self.encoder_conv_kernel_size[i]\n",
        "                , strides = self.encoder_conv_strides[i]\n",
        "                , padding = 'same'\n",
        "                , name = 'encoder_conv_' + str(i)\n",
        "                )\n",
        "\n",
        "            x = conv_layer(x)\n",
        "\n",
        "            if self.use_batch_norm:\n",
        "                x = BatchNormalization()(x)\n",
        "\n",
        "            x = LeakyReLU()(x)\n",
        "\n",
        "            if self.use_dropout:\n",
        "                x = Dropout(rate = 0.25)(x)\n",
        "\n",
        "        shape_before_flattening = K.int_shape(x)[1:]\n",
        "\n",
        "        x = Flatten()(x)\n",
        "        self.mu = Dense(self.z_dim, name='mu')(x)\n",
        "        self.log_var = Dense(self.z_dim, name='log_var')(x)\n",
        "\n",
        "        self.encoder_mu_log_var = Model(encoder_input, (self.mu, self.log_var))\n",
        "\n",
        "        def sampling(args):\n",
        "            mu, log_var = args\n",
        "            epsilon = K.random_normal(shape=K.shape(mu), mean=0., stddev=1.)\n",
        "            return mu + K.exp(log_var / 2) * epsilon\n",
        "\n",
        "        encoder_output = Lambda(sampling, name='encoder_output')([self.mu, self.log_var])\n",
        "\n",
        "        self.encoder = Model(encoder_input, encoder_output)\n",
        "        \n",
        "        \n",
        "\n",
        "        ### THE DECODER\n",
        "\n",
        "        decoder_input = Input(shape=(self.z_dim,), name='decoder_input')\n",
        "\n",
        "        x = Dense(np.prod(shape_before_flattening))(decoder_input)\n",
        "        x = Reshape(shape_before_flattening)(x)\n",
        "\n",
        "        for i in range(self.n_layers_decoder):\n",
        "            conv_t_layer = Conv2DTranspose(\n",
        "                filters = self.decoder_conv_t_filters[i]\n",
        "                , kernel_size = self.decoder_conv_t_kernel_size[i]\n",
        "                , strides = self.decoder_conv_t_strides[i]\n",
        "                , padding = 'same'\n",
        "                , name = 'decoder_conv_t_' + str(i)\n",
        "                )\n",
        "\n",
        "            x = conv_t_layer(x)\n",
        "\n",
        "            if i < self.n_layers_decoder - 1:\n",
        "                if self.use_batch_norm:\n",
        "                    x = BatchNormalization()(x)\n",
        "                x = LeakyReLU()(x)\n",
        "                if self.use_dropout:\n",
        "                    x = Dropout(rate = 0.25)(x)\n",
        "            else:\n",
        "                x = Activation('sigmoid')(x)\n",
        "\n",
        "            \n",
        "\n",
        "        decoder_output = x\n",
        "\n",
        "        self.decoder = Model(decoder_input, decoder_output)\n",
        "\n",
        "        ### THE FULL VAE\n",
        "        model_input = encoder_input\n",
        "        model_output = self.decoder(encoder_output)\n",
        "\n",
        "        self.model = Model(model_input, model_output)\n",
        "\n",
        "\n",
        "    def compile(self, learning_rate, r_loss_factor):\n",
        "        self.learning_rate = learning_rate\n",
        "\n",
        "        ### COMPILATION\n",
        "        def vae_r_loss(y_true, y_pred):\n",
        "            r_loss = K.mean(K.square(y_true - y_pred), axis = [1,2,3])\n",
        "            return r_loss_factor * r_loss\n",
        "\n",
        "        def vae_kl_loss(y_true, y_pred):\n",
        "            kl_loss =  -0.5 * K.sum(1 + self.log_var - K.square(self.mu) - K.exp(self.log_var), axis = 1)\n",
        "            return kl_loss\n",
        "\n",
        "        def vae_loss(y_true, y_pred):\n",
        "            r_loss = vae_r_loss(y_true, y_pred)\n",
        "            kl_loss = vae_kl_loss(y_true, y_pred)\n",
        "            return  r_loss + kl_loss\n",
        "\n",
        "        optimizer = Adam(lr=learning_rate)\n",
        "        self.model.compile(optimizer=optimizer, loss = vae_loss,  metrics = [vae_r_loss, vae_kl_loss])\n",
        "\n",
        "\n",
        "    def train(self, x_train, batch_size, epochs, run_folder, print_every_n_batches = 100, initial_epoch = 0, lr_decay = 1):\n",
        "\n",
        "        lr_sched = ReduceLROnPlateau(monitor='loss', factor=0.01, patience=2, verbose=1)\n",
        "        \n",
        "        callbacks_list = [lr_sched]\n",
        "\n",
        "        self.model.fit(     \n",
        "            x_train\n",
        "            , x_train\n",
        "            , batch_size = batch_size\n",
        "            , shuffle = True\n",
        "            , epochs = epochs\n",
        "            , initial_epoch = initial_epoch\n",
        "            , callbacks = callbacks_list\n",
        "        )"
      ],
      "execution_count": 0,
      "outputs": []
    },
    {
      "cell_type": "code",
      "metadata": {
        "id": "0P9D_Ori4PXe",
        "colab_type": "code",
        "colab": {}
      },
      "source": [
        "vae = VariationalAutoencoder(\n",
        "    input_dim = (28,28,1)\n",
        "    , encoder_conv_filters = [32,64,64, 64]\n",
        "    , encoder_conv_kernel_size = [3,3,3,3]\n",
        "    , encoder_conv_strides = [1,2,2,1]\n",
        "    , decoder_conv_t_filters = [64,64,32,1]\n",
        "    , decoder_conv_t_kernel_size = [3,3,3,3]\n",
        "    , decoder_conv_t_strides = [1,2,2,1]\n",
        "    , z_dim = 2\n",
        ")"
      ],
      "execution_count": 0,
      "outputs": []
    },
    {
      "cell_type": "code",
      "metadata": {
        "id": "PSHsDonH4fxo",
        "colab_type": "code",
        "colab": {}
      },
      "source": [
        "LEARNING_RATE = 0.0005\n",
        "R_LOSS_FACTOR = 1000\n"
      ],
      "execution_count": 0,
      "outputs": []
    }
  ]
}